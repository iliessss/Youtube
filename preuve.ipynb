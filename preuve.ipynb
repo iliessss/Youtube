{
 "cells": [
  {
   "cell_type": "markdown",
   "metadata": {},
   "source": [
    "$$\\frac{\\partial u}{\\partial t} = D \\frac{\\partial^2u}{\\partial x^2}$$"
   ]
  },
  {
   "cell_type": "markdown",
   "metadata": {},
   "source": [
    "$$\\frac{1}{\\tau}\\sim \\frac{D}{L^2}$$"
   ]
  },
  {
   "cell_type": "markdown",
   "metadata": {},
   "source": [
    "$$u(t=0)=20°C$$"
   ]
  },
  {
   "cell_type": "markdown",
   "metadata": {},
   "source": [
    "$$u(x=0)=100°C=u(x=L)$$"
   ]
  },
  {
   "cell_type": "markdown",
   "metadata": {},
   "source": [
    "$$u(x,\\,t) \\approx u_i^n$$"
   ]
  },
  {
   "cell_type": "markdown",
   "metadata": {},
   "source": []
  },
  {
   "cell_type": "markdown",
   "metadata": {},
   "source": []
  },
  {
   "cell_type": "markdown",
   "metadata": {},
   "source": []
  },
  {
   "cell_type": "markdown",
   "metadata": {},
   "source": []
  },
  {
   "cell_type": "markdown",
   "metadata": {},
   "source": []
  },
  {
   "cell_type": "markdown",
   "metadata": {},
   "source": [
    "$$x_i = x_0 + i\\Delta x,\\,\\,\\Delta x = x_{i+1}-x_i = \\frac{b-a}{n_x}$$"
   ]
  },
  {
   "cell_type": "markdown",
   "metadata": {},
   "source": [
    "$$u_{i+1}^n = u^n_i + \\Delta x \\left(\\frac{\\partial u}{\\partial x}\\right)_i^n + \\frac{\\Delta x^2}{2!} \\left(\\frac{\\partial u^2}{\\partial x^2}\\right)_i^n + \\frac{\\Delta x^3}{3!} \\left(\\frac{\\partial u^3}{\\partial x^3}\\right)_i^n + \\frac{\\Delta x^4}{4!} \\left(\\frac{\\partial u^4}{\\partial x^4}\\right)_i^n + o(\\Delta x^5)$$"
   ]
  },
  {
   "cell_type": "markdown",
   "metadata": {},
   "source": [
    "$$u_{i-1}^n = u^n_i - \\Delta x \\left(\\frac{\\partial u}{\\partial x}\\right)_i^n + \\frac{\\Delta x^2}{2!} \\left(\\frac{\\partial u^2}{\\partial x^2}\\right)_i^n - \\frac{\\Delta x^3}{3!} \\left(\\frac{\\partial u^3}{\\partial x^3}\\right)_i^n + \\frac{\\Delta x^4}{4!} \\left(\\frac{\\partial u^4}{\\partial x^4}\\right)_i^n - o(\\Delta x^5)$$"
   ]
  },
  {
   "cell_type": "markdown",
   "metadata": {},
   "source": [
    "$$\\left(\\frac{\\partial^2u}{\\partial x^2}\\right)_i^n = \\frac{u^n_{i-1} - 2u_i^n + u^n_{i+1}}{\\Delta x^2} - \\frac{\\Delta x^2}{12}\\left(\\frac{\\partial^4u}{\\partial x^4}\\right)_i^n + o(\\Delta x^4)$$"
   ]
  },
  {
   "cell_type": "markdown",
   "metadata": {},
   "source": [
    "$$t_n = t_0 + n\\Delta t,\\,\\,\\Delta t = t_{n+1} - t_n = \\frac{t_f-t_0}{n_t}$$"
   ]
  },
  {
   "cell_type": "markdown",
   "metadata": {},
   "source": [
    "**Pour Euler explicite :**"
   ]
  },
  {
   "cell_type": "markdown",
   "metadata": {},
   "source": [
    "$$\\frac{du}{dt} = f(u,\\,t)$$"
   ]
  },
  {
   "cell_type": "markdown",
   "metadata": {},
   "source": [
    "Avec $f(u,\\,t) = D\\frac{\\partial^2u}{\\partial x^2}$"
   ]
  },
  {
   "cell_type": "markdown",
   "metadata": {},
   "source": [
    "$$u^{n+1}= u^n + \\Delta t \\left(\\frac{d u}{d t}\\right)^n + o(\\Delta t^2) \\Leftrightarrow u^{n+1}= u^n + \\Delta t f(u^n,\\,t_n) + o(\\Delta t^2)$$"
   ]
  },
  {
   "cell_type": "markdown",
   "metadata": {},
   "source": [
    "$$\\frac{u^{n+1}_i-u^n_i}{\\Delta t} = f(u^n_i,\\,t) + o(\\Delta t) \\Leftrightarrow \\frac{u^{n+1}_i-u^n_i}{\\Delta t} \\approx f(u^n_i,\\,t)$$"
   ]
  },
  {
   "cell_type": "markdown",
   "metadata": {},
   "source": [
    "$$\\frac{u^{n+1}_i-u^n_i}{\\Delta t} = D \\frac{u^n_{i-1} - 2u_i^n + u^n_{i+1}}{\\Delta x^2}$$"
   ]
  },
  {
   "cell_type": "markdown",
   "metadata": {},
   "source": [
    "$$u_i^{n+1} = u_i^n + \\alpha \\left(u_{i-1}^n -2u^n_i + u_{i+1}^n\\right)$$"
   ]
  },
  {
   "cell_type": "markdown",
   "metadata": {},
   "source": [
    "Avec $\\alpha = \\frac{D\\Delta t}{\\Delta x^2} < \\frac{1}{2}$"
   ]
  },
  {
   "cell_type": "markdown",
   "metadata": {},
   "source": [
    "$$\\Delta t = \\frac{\\Delta x^2}{2D}$$"
   ]
  }
 ],
 "metadata": {
  "language_info": {
   "name": "python"
  }
 },
 "nbformat": 4,
 "nbformat_minor": 2
}
